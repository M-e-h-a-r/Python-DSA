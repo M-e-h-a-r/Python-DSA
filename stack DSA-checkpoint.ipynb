{
 "cells": [
  {
   "cell_type": "markdown",
   "id": "ed5f8299",
   "metadata": {},
   "source": [
    "## Stack"
   ]
  },
  {
   "cell_type": "code",
   "execution_count": 4,
   "id": "6c786b6b",
   "metadata": {},
   "outputs": [
    {
     "name": "stdout",
     "output_type": "stream",
     "text": [
      "[21, 44, 2]\n",
      "[44, 2]\n"
     ]
    }
   ],
   "source": [
    "class stack:\n",
    "    def __init__(self):\n",
    "        self.values=[]\n",
    "    def push(self,x):\n",
    "        self.values=[x]+self.values\n",
    "    def pop(self):\n",
    "        return self.values.pop(0)\n",
    "s=stack()\n",
    "s.push(2)\n",
    "s.push(44)\n",
    "s.push(21)\n",
    "print(s.values)\n",
    "s.pop()\n",
    "print(s.values)"
   ]
  },
  {
   "cell_type": "code",
   "execution_count": null,
   "id": "b3cef731",
   "metadata": {},
   "outputs": [],
   "source": []
  }
 ],
 "metadata": {
  "kernelspec": {
   "display_name": "Python 3 (ipykernel)",
   "language": "python",
   "name": "python3"
  },
  "language_info": {
   "codemirror_mode": {
    "name": "ipython",
    "version": 3
   },
   "file_extension": ".py",
   "mimetype": "text/x-python",
   "name": "python",
   "nbconvert_exporter": "python",
   "pygments_lexer": "ipython3",
   "version": "3.11.5"
  }
 },
 "nbformat": 4,
 "nbformat_minor": 5
}
