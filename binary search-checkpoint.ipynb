{
 "cells": [
  {
   "cell_type": "code",
   "execution_count": null,
   "id": "559e3d0c",
   "metadata": {},
   "outputs": [],
   "source": [
    "def bsearch(arr,val):\n",
    "    beg=0\n",
    "    end=len(arr)-1\n",
    "    while beg<=end:\n",
    "        mid=(beg+end)//2\n",
    "        if arr[mid]==val:\n",
    "            return mid\n",
    "        elif arr[mid]>val:\n",
    "            end=mid-1\n",
    "        else:\n",
    "            beg=mid+1\n",
    "    return -1\n",
    "arr=[1,1,2,2,3,3,5,6,6,7,7]\n",
    "val=5\n",
    "res=bsearch(arr,val)\n",
    "if res==-1:\n",
    "    print(\"element not found\")\n",
    "else:\n",
    "    print(\"element found at index\",res)"
   ]
  }
 ],
 "metadata": {
  "kernelspec": {
   "display_name": "Python 3 (ipykernel)",
   "language": "python",
   "name": "python3"
  },
  "language_info": {
   "codemirror_mode": {
    "name": "ipython",
    "version": 3
   },
   "file_extension": ".py",
   "mimetype": "text/x-python",
   "name": "python",
   "nbconvert_exporter": "python",
   "pygments_lexer": "ipython3",
   "version": "3.11.5"
  }
 },
 "nbformat": 4,
 "nbformat_minor": 5
}
