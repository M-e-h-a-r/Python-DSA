{
 "cells": [
  {
   "cell_type": "code",
   "execution_count": 2,
   "id": "ce2e769d",
   "metadata": {},
   "outputs": [
    {
     "name": "stdout",
     "output_type": "stream",
     "text": [
      "[1, 2, 3, 3, 3, 5, 12, 12, 12, 12, 14, 23, 23, 23, 31, 213, 234, 314, 525, 1233, 12233, 21223]\n"
     ]
    }
   ],
   "source": [
    "def b_sort(a):\n",
    "    for i in range(n):\n",
    "        for j in range(0,n-1):\n",
    "            if a[j]>a[j+1]:\n",
    "                temp=a[j]\n",
    "                a[j]=a[j+1]\n",
    "                a[j+1]=temp\n",
    "a=[1233,12233,213,1,3,2,21223,12,3,23,12,12,234,31,23,12,5,3,314,23,14,525]\n",
    "n=len(a)\n",
    "b_sort(a)\n",
    "print(a)"
   ]
  },
  {
   "cell_type": "code",
   "execution_count": null,
   "id": "4159f9e4",
   "metadata": {},
   "outputs": [],
   "source": []
  }
 ],
 "metadata": {
  "kernelspec": {
   "display_name": "Python 3 (ipykernel)",
   "language": "python",
   "name": "python3"
  },
  "language_info": {
   "codemirror_mode": {
    "name": "ipython",
    "version": 3
   },
   "file_extension": ".py",
   "mimetype": "text/x-python",
   "name": "python",
   "nbconvert_exporter": "python",
   "pygments_lexer": "ipython3",
   "version": "3.11.5"
  }
 },
 "nbformat": 4,
 "nbformat_minor": 5
}
